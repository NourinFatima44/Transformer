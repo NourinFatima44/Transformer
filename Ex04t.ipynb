{
  "nbformat": 4,
  "nbformat_minor": 0,
  "metadata": {
    "colab": {
      "name": "Ex04t.ipynb",
      "provenance": [],
      "collapsed_sections": []
    },
    "kernelspec": {
      "display_name": "Python 3",
      "language": "python",
      "name": "python3"
    },
    "language_info": {
      "codemirror_mode": {
        "name": "ipython",
        "version": 3
      },
      "file_extension": ".py",
      "mimetype": "text/x-python",
      "name": "python",
      "nbconvert_exporter": "python",
      "pygments_lexer": "ipython3",
      "version": "3.7.9"
    },
    "accelerator": "GPU"
  },
  "cells": [
    {
      "cell_type": "code",
      "metadata": {
        "colab": {
          "base_uri": "https://localhost:8080/"
        },
        "id": "23Yc4PnPODA-",
        "outputId": "394f59ae-be85-4e36-f3c4-2ae25c696e2c"
      },
      "source": [
        "from google.colab import drive\n",
        "drive.mount('/content/drive')"
      ],
      "execution_count": null,
      "outputs": [
        {
          "output_type": "stream",
          "name": "stdout",
          "text": [
            "Drive already mounted at /content/drive; to attempt to forcibly remount, call drive.mount(\"/content/drive\", force_remount=True).\n"
          ]
        }
      ]
    },
    {
      "cell_type": "markdown",
      "metadata": {
        "id": "4y5Fs7SwsapO"
      },
      "source": [
        "Libraries"
      ]
    },
    {
      "cell_type": "code",
      "metadata": {
        "colab": {
          "base_uri": "https://localhost:8080/"
        },
        "id": "xUqQSW-NGIXF",
        "outputId": "4acd8e64-a5ba-4256-9aa7-4fe54e3aad8c"
      },
      "source": [
        "\n",
        "import numpy as np\n",
        "import pandas as pd \n",
        "import os\n",
        "!pip install librosa\n",
        "import librosa\n",
        "import matplotlib.pyplot as plt\n",
        "from sklearn.model_selection import train_test_split\n",
        "import tensorflow as tf"
      ],
      "execution_count": null,
      "outputs": [
        {
          "output_type": "stream",
          "name": "stdout",
          "text": [
            "Requirement already satisfied: librosa in /usr/local/lib/python3.7/dist-packages (0.8.1)\n",
            "Requirement already satisfied: numpy>=1.15.0 in /usr/local/lib/python3.7/dist-packages (from librosa) (1.19.5)\n",
            "Requirement already satisfied: scipy>=1.0.0 in /usr/local/lib/python3.7/dist-packages (from librosa) (1.4.1)\n",
            "Requirement already satisfied: audioread>=2.0.0 in /usr/local/lib/python3.7/dist-packages (from librosa) (2.1.9)\n",
            "Requirement already satisfied: scikit-learn!=0.19.0,>=0.14.0 in /usr/local/lib/python3.7/dist-packages (from librosa) (1.0.2)\n",
            "Requirement already satisfied: joblib>=0.14 in /usr/local/lib/python3.7/dist-packages (from librosa) (1.1.0)\n",
            "Requirement already satisfied: numba>=0.43.0 in /usr/local/lib/python3.7/dist-packages (from librosa) (0.51.2)\n",
            "Requirement already satisfied: pooch>=1.0 in /usr/local/lib/python3.7/dist-packages (from librosa) (1.6.0)\n",
            "Requirement already satisfied: soundfile>=0.10.2 in /usr/local/lib/python3.7/dist-packages (from librosa) (0.10.3.post1)\n",
            "Requirement already satisfied: decorator>=3.0.0 in /usr/local/lib/python3.7/dist-packages (from librosa) (4.4.2)\n",
            "Requirement already satisfied: packaging>=20.0 in /usr/local/lib/python3.7/dist-packages (from librosa) (21.3)\n",
            "Requirement already satisfied: resampy>=0.2.2 in /usr/local/lib/python3.7/dist-packages (from librosa) (0.2.2)\n",
            "Requirement already satisfied: llvmlite<0.35,>=0.34.0.dev0 in /usr/local/lib/python3.7/dist-packages (from numba>=0.43.0->librosa) (0.34.0)\n",
            "Requirement already satisfied: setuptools in /usr/local/lib/python3.7/dist-packages (from numba>=0.43.0->librosa) (57.4.0)\n",
            "Requirement already satisfied: pyparsing!=3.0.5,>=2.0.2 in /usr/local/lib/python3.7/dist-packages (from packaging>=20.0->librosa) (3.0.7)\n",
            "Requirement already satisfied: requests>=2.19.0 in /usr/local/lib/python3.7/dist-packages (from pooch>=1.0->librosa) (2.23.0)\n",
            "Requirement already satisfied: appdirs>=1.3.0 in /usr/local/lib/python3.7/dist-packages (from pooch>=1.0->librosa) (1.4.4)\n",
            "Requirement already satisfied: chardet<4,>=3.0.2 in /usr/local/lib/python3.7/dist-packages (from requests>=2.19.0->pooch>=1.0->librosa) (3.0.4)\n",
            "Requirement already satisfied: idna<3,>=2.5 in /usr/local/lib/python3.7/dist-packages (from requests>=2.19.0->pooch>=1.0->librosa) (2.10)\n",
            "Requirement already satisfied: urllib3!=1.25.0,!=1.25.1,<1.26,>=1.21.1 in /usr/local/lib/python3.7/dist-packages (from requests>=2.19.0->pooch>=1.0->librosa) (1.24.3)\n",
            "Requirement already satisfied: certifi>=2017.4.17 in /usr/local/lib/python3.7/dist-packages (from requests>=2.19.0->pooch>=1.0->librosa) (2021.10.8)\n",
            "Requirement already satisfied: six>=1.3 in /usr/local/lib/python3.7/dist-packages (from resampy>=0.2.2->librosa) (1.15.0)\n",
            "Requirement already satisfied: threadpoolctl>=2.0.0 in /usr/local/lib/python3.7/dist-packages (from scikit-learn!=0.19.0,>=0.14.0->librosa) (3.1.0)\n",
            "Requirement already satisfied: cffi>=1.0 in /usr/local/lib/python3.7/dist-packages (from soundfile>=0.10.2->librosa) (1.15.0)\n",
            "Requirement already satisfied: pycparser in /usr/local/lib/python3.7/dist-packages (from cffi>=1.0->soundfile>=0.10.2->librosa) (2.21)\n"
          ]
        }
      ]
    },
    {
      "cell_type": "markdown",
      "metadata": {
        "id": "EqwgPFtdsiqE"
      },
      "source": [
        "Dataset "
      ]
    },
    {
      "cell_type": "markdown",
      "metadata": {
        "id": "nsQO3CwarGyH"
      },
      "source": [
        "CHange the path here"
      ]
    },
    {
      "cell_type": "code",
      "metadata": {
        "id": "4GNvlIRON_q_"
      },
      "source": [
        "from sklearn.utils import shuffle\n",
        "\n",
        "import joblib\n",
        "X = joblib.load('/content/drive/My Drive/R_Paper/X.joblib')\n",
        "y = joblib.load('/content/drive/My Drive/R_Paper/y.joblib')\n",
        "#X = data.drop(data[[67415]], axis=1)\n",
        "#y=data[[67415]]\n",
        "X, y = shuffle(X, y)"
      ],
      "execution_count": null,
      "outputs": []
    },
    {
      "cell_type": "code",
      "metadata": {
        "id": "CH1sSq2ChUq_",
        "colab": {
          "base_uri": "https://localhost:8080/"
        },
        "outputId": "7b61c768-9277-4579-d197-91e8f7d3885c"
      },
      "source": [
        " #convert labels into numbers\n",
        "Y = pd.get_dummies(y).values \n",
        "Y.shape"
      ],
      "execution_count": null,
      "outputs": [
        {
          "output_type": "execute_result",
          "data": {
            "text/plain": [
              "(1600, 10)"
            ]
          },
          "metadata": {},
          "execution_count": 29
        }
      ]
    },
    {
      "cell_type": "code",
      "metadata": {
        "colab": {
          "base_uri": "https://localhost:8080/"
        },
        "id": "dS-tszk0BlsJ",
        "outputId": "53a046ab-ea61-4efb-ab1b-058f04c7126a"
      },
      "source": [
        "X.shape[1]/2"
      ],
      "execution_count": null,
      "outputs": [
        {
          "output_type": "execute_result",
          "data": {
            "text/plain": [
              "136.5"
            ]
          },
          "metadata": {},
          "execution_count": 30
        }
      ]
    },
    {
      "cell_type": "markdown",
      "metadata": {
        "id": "92QlNNlVtCix"
      },
      "source": [
        "Transfomer coding"
      ]
    },
    {
      "cell_type": "code",
      "metadata": {
        "id": "KMPHUERZFXzg"
      },
      "source": [
        "def scaled_dot_product_attention(query, key, value, mask):\n",
        "    matmul_qk = tf.matmul(query, key, transpose_b=True)\n",
        "\n",
        "    depth = tf.cast(tf.shape(key)[-1], tf.float32)\n",
        "    logits = matmul_qk / tf.math.sqrt(depth)\n",
        "\n",
        "  # add the mask zero out padding tokens.\n",
        "    if mask is not None:\n",
        "        logits += (mask * -1e9)\n",
        "\n",
        "    attention_weights = tf.nn.softmax(logits, axis=-1)\n",
        "\n",
        "    return tf.matmul(attention_weights, value)"
      ],
      "execution_count": null,
      "outputs": []
    },
    {
      "cell_type": "code",
      "metadata": {
        "id": "-F4_iB_KFXzj"
      },
      "source": [
        "class MultiHeadAttention(tf.keras.layers.Layer):\n",
        "    \n",
        "    def __init__(self, d_model, num_heads, name=\"multi_head_attention\"):\n",
        "        super(MultiHeadAttention, self).__init__(name=name)\n",
        "        self.num_heads = num_heads\n",
        "        self.d_model = d_model\n",
        "\n",
        "        assert d_model % self.num_heads == 0\n",
        "\n",
        "        self.depth = d_model // self.num_heads\n",
        "\n",
        "        self.query_dense = tf.keras.layers.Dense(units=d_model)\n",
        "        self.key_dense = tf.keras.layers.Dense(units=d_model)\n",
        "        self.value_dense = tf.keras.layers.Dense(units=d_model)\n",
        "\n",
        "        self.dense = tf.keras.layers.Dense(units=d_model)\n",
        "\n",
        "    def split_heads(self, inputs, batch_size):\n",
        "        inputs = tf.reshape(inputs, shape=(batch_size, -1, self.num_heads, self.depth))\n",
        "        return tf.transpose(inputs, perm=[0, 1,2,3])\n",
        "\n",
        "    def call(self, inputs):\n",
        "        query, key, value, mask = inputs['query'], inputs['key'], inputs['value'], inputs['mask']\n",
        "        batch_size = tf.shape(query)[0]\n",
        "        # linear layers\n",
        "        query = self.query_dense(query)\n",
        "        key = self.key_dense(key)\n",
        "        value = self.value_dense(value)\n",
        "\n",
        "        # split heads\n",
        "        query = self.split_heads(query, batch_size)\n",
        "        key = self.split_heads(key, batch_size)\n",
        "        value = self.split_heads(value, batch_size)\n",
        "\n",
        "        scaled_attention = scaled_dot_product_attention(query, key, value, mask)\n",
        "\n",
        "        scaled_attention = tf.transpose(scaled_attention, perm=[0, 1,2,3])\n",
        "\n",
        "        concat_attention = tf.reshape(scaled_attention,\n",
        "                                      (batch_size, -1, self.d_model))\n",
        "\n",
        "        outputs = self.dense(concat_attention)\n",
        "\n",
        "        return outputs"
      ],
      "execution_count": null,
      "outputs": []
    },
    {
      "cell_type": "code",
      "metadata": {
        "id": "xsfTXzebFXzn"
      },
      "source": [
        "class PositionalEncoding(tf.keras.layers.Layer):\n",
        "    def __init__(self, position, d_model):\n",
        "        super(PositionalEncoding, self).__init__()\n",
        "        self.pos_encoding = self.positional_encoding(position, d_model)\n",
        "\n",
        "    def get_angles(self, position, i, d_model):\n",
        "        angles = 1 / tf.pow(10000, (2 * (i // 2)) / tf.cast(d_model, tf.float32))\n",
        "        return position * angles\n",
        "\n",
        "    def positional_encoding(self, position, d_model):\n",
        "        angle_rads = self.get_angles(position=tf.range(position, dtype=tf.float32)[:, tf.newaxis],\n",
        "        i=tf.range(d_model, dtype=tf.float32)[tf.newaxis, :], d_model=d_model)\n",
        "        # apply sin to even index in the array\n",
        "        sines = tf.math.sin(angle_rads[:, 0::2])\n",
        "        # apply cos to odd index in the array\n",
        "        cosines = tf.math.cos(angle_rads[:, 1::2])\n",
        "\n",
        "        pos_encoding = tf.concat([sines, cosines], axis=-1)\n",
        "        pos_encoding = pos_encoding[tf.newaxis, ...]\n",
        "        return tf.cast(pos_encoding, tf.float32)\n",
        "\n",
        "    def call(self, inputs):\n",
        "        return inputs + self.pos_encoding[:, :tf.shape(inputs)[1], :]"
      ],
      "execution_count": null,
      "outputs": []
    },
    {
      "cell_type": "code",
      "metadata": {
        "id": "4pq5OKITFXzz"
      },
      "source": [
        "# This allows to the transformer to know where there is real data and where it is padded\n",
        "def create_padding_mask(seq):\n",
        "    seq = tf.cast(tf.math.equal(seq, 0), tf.float32)\n",
        "  \n",
        "    # add extra dimensions to add the padding\n",
        "    # to the attention logits.\n",
        "    return seq[:, tf.newaxis, tf.newaxis, :]  # (batch_size, 1, 1, seq_len)"
      ],
      "execution_count": null,
      "outputs": []
    },
    {
      "cell_type": "code",
      "metadata": {
        "id": "U389WZgtFXzq"
      },
      "source": [
        "def encoder_layer(units, d_model, num_heads, dropout,name=\"encoder_layer\"):\n",
        "    inputs = tf.keras.Input(shape=(None,d_model ), name=\"inputs\")\n",
        "    padding_mask = tf.keras.Input(shape=(1, 1, None), name=\"padding_mask\")\n",
        "    attention = MultiHeadAttention(\n",
        "      d_model, num_heads, name=\"attention\")({\n",
        "          'query': inputs,\n",
        "          'key': inputs,\n",
        "          'value': inputs,\n",
        "          'mask': padding_mask\n",
        "      })\n",
        "    attention = tf.keras.layers.Dropout(rate=dropout)(attention)\n",
        "    attention = tf.keras.layers.LayerNormalization(\n",
        "      epsilon=1e-6)(inputs + attention)\n",
        "\n",
        "    outputs = tf.keras.layers.Dense(units=units, activation='relu')(attention)\n",
        "    outputs = tf.keras.layers.Dense(units=d_model)(outputs)\n",
        "    outputs = tf.keras.layers.Dropout(rate=dropout)(outputs)\n",
        "    outputs = tf.keras.layers.LayerNormalization(\n",
        "      epsilon=1e-6)(attention + outputs)\n",
        "\n",
        "    return tf.keras.Model(\n",
        "      inputs=[inputs, padding_mask], outputs=outputs, name=name)"
      ],
      "execution_count": null,
      "outputs": []
    },
    {
      "cell_type": "code",
      "metadata": {
        "id": "QPEbBpxqFXzt"
      },
      "source": [
        "def encoder(time_steps,\n",
        "            num_layers,\n",
        "            units,\n",
        "            d_model,\n",
        "            num_heads,\n",
        "            dropout,\n",
        "            projection,\n",
        "            name=\"encoder\"):\n",
        "    inputs = tf.keras.Input(shape=(None,d_model), name=\"inputs\")\n",
        "    padding_mask = tf.keras.Input(shape=(1, 1, None), name=\"padding_mask\")\n",
        "  \n",
        "    if projection=='linear':\n",
        "        projection=tf.keras.layers.Dense( d_model,use_bias=True, activation='linear')(inputs)\n",
        "        print('linear')\n",
        "  \n",
        "    else:\n",
        "        projection=tf.identity(inputs)\n",
        "        print('none')\n",
        "   \n",
        "    projection *= tf.math.sqrt(tf.cast(d_model, tf.float32))\n",
        "    projection = PositionalEncoding(time_steps, d_model)(projection)\n",
        "\n",
        "    outputs = tf.keras.layers.Dropout(rate=dropout)(projection)\n",
        "\n",
        "    for i in range(num_layers):\n",
        "        outputs = encoder_layer(\n",
        "            units=units,\n",
        "            d_model=d_model,\n",
        "            num_heads=num_heads,\n",
        "            dropout=dropout,\n",
        "            name=\"encoder_layer_{}\".format(i),\n",
        "            )([outputs, padding_mask])\n",
        " \n",
        " \n",
        "  \n",
        "\n",
        " \n",
        "    return tf.keras.Model(\n",
        "        inputs=[inputs, padding_mask], outputs=outputs, name=name)"
      ],
      "execution_count": null,
      "outputs": []
    },
    {
      "cell_type": "code",
      "metadata": {
        "id": "n9uLLTcPFXzw"
      },
      "source": [
        "def transformer(time_steps,\n",
        "                num_layers,\n",
        "                units,\n",
        "                d_model,\n",
        "                num_heads,\n",
        "                dropout,\n",
        "                output_size,\n",
        "                projection,\n",
        "                name=\"transformer\"):\n",
        "    inputs = tf.keras.Input(shape=(None,d_model), name=\"inputs\")\n",
        "  \n",
        "  \n",
        "    enc_padding_mask = tf.keras.layers.Lambda(create_padding_mask, output_shape=(1, 1, None), name='enc_padding_mask')(tf.dtypes.cast(\n",
        "          \n",
        "    #Like our input has a dimension of length X d_model but the masking is applied to a vector\n",
        "    # We get the sum for each row and result is a vector. So, if result is 0 it is because in that position was masked      \n",
        "    tf.math.reduce_sum(\n",
        "    inputs,\n",
        "    axis=2,\n",
        "    keepdims=False,\n",
        "    name=None\n",
        "), tf.float32))\n",
        "  \n",
        "\n",
        "    enc_outputs = encoder(\n",
        "      time_steps=time_steps,\n",
        "      num_layers=num_layers,\n",
        "      units=units,\n",
        "      d_model=d_model,\n",
        "      num_heads=num_heads,\n",
        "      dropout=dropout,\n",
        "      projection=projection,\n",
        "      name='encoder')(inputs=[inputs, enc_padding_mask])\n",
        "\n",
        "    #We reshape for feeding our FC in the next step\n",
        "    outputs=tf.reshape(enc_outputs,(-1,time_steps*d_model))\n",
        "  \n",
        "    #We predict our class\n",
        "    outputs = tf.keras.layers.Dense(units=output_size,use_bias=True,activation='softmax', name=\"outputs\")(outputs)\n",
        "\n",
        "    return tf.keras.Model(inputs=[inputs], outputs=outputs, name='audio_class')"
      ],
      "execution_count": null,
      "outputs": []
    },
    {
      "cell_type": "code",
      "metadata": {
        "id": "PQgqRin-4GPA"
      },
      "source": [
        "#Y=pd.get_dummies(Y, dummy_na=True)"
      ],
      "execution_count": null,
      "outputs": []
    },
    {
      "cell_type": "code",
      "metadata": {
        "id": "OU4hWuxYFX0C"
      },
      "source": [
        "#We get our train and test set\n",
        "X_train,X_test, Y_train, Y_test =train_test_split(X,Y, test_size=0.1,random_state=42,\n",
        "                                                    stratify=Y)"
      ],
      "execution_count": null,
      "outputs": []
    },
    {
      "cell_type": "code",
      "metadata": {
        "id": "j_5HZZ4RN_rG"
      },
      "source": [
        "#dimesnion expanding because it required 3D but we are deailting with 2D\n",
        "X_test= np.expand_dims(X_test, 1)\n",
        "X_train= np.expand_dims(X_train, 1)"
      ],
      "execution_count": null,
      "outputs": []
    },
    {
      "cell_type": "code",
      "metadata": {
        "id": "Y1YOoBybN_rH"
      },
      "source": [
        "#principal_df12= np.expand_dims(principal_df12, 1)\n",
        "X= np.expand_dims(X, 1)"
      ],
      "execution_count": null,
      "outputs": []
    },
    {
      "cell_type": "code",
      "metadata": {
        "id": "sLioTq3lN_rH",
        "colab": {
          "base_uri": "https://localhost:8080/"
        },
        "outputId": "4c55def6-5728-4fca-d8e8-4d0cabc1340d"
      },
      "source": [
        "X.shape[0]"
      ],
      "execution_count": null,
      "outputs": [
        {
          "output_type": "execute_result",
          "data": {
            "text/plain": [
              "1600"
            ]
          },
          "metadata": {},
          "execution_count": 42
        }
      ]
    },
    {
      "cell_type": "code",
      "metadata": {
        "id": "maSKO8sQN_rI"
      },
      "source": [
        "#principal_df12.shape[2]\n",
        "#principal_df12.shape[1]"
      ],
      "execution_count": null,
      "outputs": []
    },
    {
      "cell_type": "code",
      "metadata": {
        "colab": {
          "base_uri": "https://localhost:8080/"
        },
        "id": "deKc816L3bWy",
        "outputId": "ea776fe8-c56f-4533-bca6-a7ccffc92482"
      },
      "source": [
        "Y.shape"
      ],
      "execution_count": null,
      "outputs": [
        {
          "output_type": "execute_result",
          "data": {
            "text/plain": [
              "(1600, 10)"
            ]
          },
          "metadata": {},
          "execution_count": 44
        }
      ]
    },
    {
      "cell_type": "code",
      "metadata": {
        "id": "MXGTtytLrHTT"
      },
      "source": [
        "#just for number of head it required if 0< then we required"
      ],
      "execution_count": null,
      "outputs": []
    },
    {
      "cell_type": "code",
      "metadata": {
        "id": "GcSAKnbON_rI"
      },
      "source": [
        "#projection=['linear','none']\n",
        "projection=['linear']\n",
        "accuracy=[]\n",
        "proj_implemented=[]"
      ],
      "execution_count": null,
      "outputs": []
    },
    {
      "cell_type": "code",
      "metadata": {
        "id": "y2ifMZKEFX0J"
      },
      "source": [
        "# from sklearn.metrics import precision_score\n",
        "# from sklearn.metrics import accuracy_score\n",
        "# from sklearn.metrics import recall_score\n",
        "# #from sklearn.metrics import f1_score\n",
        "# #from sklearn.metrics import roc_auc_score\n",
        "# #from sklearn.metrics import confusion_matrix\n",
        "# for i in projection:\n",
        "#     NUM_LAYERS =1\n",
        "\n",
        "#     D_MODEL = X.shape[2]\n",
        "#     NUM_HEADS = 1\n",
        "#     UNITS = 512\n",
        "#     DROPOUT = 0.1\n",
        "#     TIME_STEPS= X.shape[1]\n",
        "#     OUTPUT_SIZE=10\n",
        "#     EPOCHS =150\n",
        "#     EXPERIMENTS=1\n",
        "#      #num_layers = 4\n",
        "#     #d_model = 128\n",
        "#     #dff = 512\n",
        "#     #num_heads = 8\n",
        "#     #division   dropout_rate = 0.1\n",
        "#     for j in range(EXPERIMENTS):\n",
        "#         model = transformer(time_steps=TIME_STEPS,\n",
        "#         num_layers=NUM_LAYERS,\n",
        "#         units=UNITS,\n",
        "#         d_model=D_MODEL,\n",
        "#         num_heads=NUM_HEADS,\n",
        "#         dropout=DROPOUT,\n",
        "#         output_size=OUTPUT_SIZE,  \n",
        "#         projection=i)\n",
        "   \n",
        "#         model.compile(optimizer=tf.keras.optimizers.Adam(0.0001), loss='categorical_crossentropy', metrics=['accuracy'])\n",
        "#         history=model.fit(X_train,Y_train, epochs=EPOCHS, validation_split=0.1)\n",
        "#         accr = model.evaluate(X_test,Y_test)\n",
        "#         print(accr)\n",
        "#         #accuracy.append(max(history.history['val_accuracy']))\n",
        "#         #proj_implemented.append(i)\n",
        "#         import matplotlib.pyplot as plt\n",
        "      \n",
        "      \n",
        "\n",
        "\n",
        "\n",
        "#         acc = history.history['accuracy']\n",
        "#         val_acc = history.history['val_accuracy']\n",
        "#         loss = history.history['loss']\n",
        "#         val_loss = history.history['val_loss']\n",
        "\n",
        "#         epochs = range(1, len(acc) + 1)\n",
        "\n",
        "#         # \"bo\" is for \"blue dot\"\n",
        "#         plt.plot(epochs, loss, 'bo', label='Training loss')\n",
        "\n",
        "\n",
        "#         # b is for \"solid blue line\"\n",
        "#         plt.plot(epochs, val_loss, 'b', label='Validation loss')\n",
        "#         plt.title('Training and validation loss')\n",
        "#         plt.xlabel('Epochs')\n",
        "#         plt.ylabel('Loss')\n",
        "#         plt.legend()\n",
        "\n",
        "#         plt.show()\n",
        "#         plt.clf()   # clear figure\n",
        "#         history_dict = history.history\n",
        "\n",
        "#         print(history_dict.keys())\n",
        "#         acc_values = history_dict['accuracy']\n",
        "#         val_acc_values = history_dict['val_accuracy']\n",
        "#         plt.plot(epochs, acc, 'bo', label='Training acc')\n",
        "#         plt.plot(epochs, val_acc, 'b', label='Validation acc')\n",
        "#         plt.title('Training and validation accuracy')\n",
        "#         plt.xlabel('Epochs')  \n",
        "#         plt.ylabel('Loss')\n",
        "#         plt.legend()\n",
        "\n",
        "#         plt.show()\n",
        "#         import matplotlib.pyplot as plt\n",
        "#         yhat_classes = model.predict(X_test,verbose=0)\n",
        "                   \n",
        "# # predict crisp classes for test set\n",
        "#         #yhat_classes = model.predict_classes(X_train,verbose=0)\n",
        "#         #print(yhat_classes)\n",
        "#         #yhat_classes=yhat_classes.astype('int32')\n",
        "#         #yhat_classes=yhat_classes.reshape(-1,1)\n",
        "#         #yhat_probs = model.predict(X_test)\n",
        "#         #print(yhat_probs.round())\n",
        "#         #yhat_probs=yhat_probs.round()\n",
        "#         #yhat_classes=yhat_classes.reshape(-1,1)\n",
        "    \n",
        "        \n",
        "#         from sklearn.metrics import precision_score\n",
        "#         from sklearn.metrics import accuracy_score\n",
        "#         from sklearn.metrics import recall_score\n",
        "#         from sklearn.metrics import f1_score\n",
        "#         from sklearn.metrics import roc_auc_score\n",
        "#         from sklearn.metrics import confusion_matrix\n",
        "\n",
        "#         # accuracy: (tp + tn) / (p + n)\n",
        "        \n",
        "        \n",
        "\n",
        "\n",
        "\n",
        "#         #del model\n",
        "#         #del history"
      ],
      "execution_count": null,
      "outputs": []
    },
    {
      "cell_type": "code",
      "metadata": {
        "id": "jiSyF56tV2W7"
      },
      "source": [
        "# #yhat_classes=yhat_classes.astype(int)\n",
        "# from sklearn.metrics import multilabel_confusion_matrix\n",
        "# yhat_classes = model.predict(X_test,verbose=0)\n",
        "# #matrix = confusion_matrix(Y_test, yhat_classes)\n",
        "# yhat_classes=np.argmax(yhat_classes, axis=1)\n",
        "# Y_test=np.argmax(Y_test, axis=1)\n",
        "# cf_matrix=multilabel_confusion_matrix(Y_test, yhat_classes)\n",
        "# print(cf_matrix)"
      ],
      "execution_count": null,
      "outputs": []
    },
    {
      "cell_type": "code",
      "metadata": {
        "id": "UxvCyRpNgQ25",
        "colab": {
          "base_uri": "https://localhost:8080/"
        },
        "outputId": "b999aedc-2700-4b8a-86ea-a91e6d29ec66"
      },
      "source": [
        "model.summary()"
      ],
      "execution_count": null,
      "outputs": [
        {
          "output_type": "stream",
          "name": "stdout",
          "text": [
            "Model: \"audio_class\"\n",
            "__________________________________________________________________________________________________\n",
            " Layer (type)                   Output Shape         Param #     Connected to                     \n",
            "==================================================================================================\n",
            " inputs (InputLayer)            [(None, None, 273)]  0           []                               \n",
            "                                                                                                  \n",
            " tf.math.reduce_sum_4 (TFOpLamb  (None, None)        0           ['inputs[0][0]']                 \n",
            " da)                                                                                              \n",
            "                                                                                                  \n",
            " tf.cast_4 (TFOpLambda)         (None, None)         0           ['tf.math.reduce_sum_4[0][0]']   \n",
            "                                                                                                  \n",
            " enc_padding_mask (Lambda)      (None, 1, 1, None)   0           ['tf.cast_4[0][0]']              \n",
            "                                                                                                  \n",
            " encoder (Functional)           (None, None, 273)    655439      ['inputs[0][0]',                 \n",
            "                                                                  'enc_padding_mask[0][0]']       \n",
            "                                                                                                  \n",
            " tf.reshape_4 (TFOpLambda)      (None, 273)          0           ['encoder[0][0]']                \n",
            "                                                                                                  \n",
            " outputs (Dense)                (None, 10)           2740        ['tf.reshape_4[0][0]']           \n",
            "                                                                                                  \n",
            "==================================================================================================\n",
            "Total params: 658,179\n",
            "Trainable params: 658,179\n",
            "Non-trainable params: 0\n",
            "__________________________________________________________________________________________________\n"
          ]
        }
      ]
    },
    {
      "cell_type": "code",
      "metadata": {
        "id": "r4lLf7zc7Da5",
        "colab": {
          "base_uri": "https://localhost:8080/",
          "height": 573
        },
        "outputId": "4e90e0b7-4f66-4e7e-b122-04563e9618ac"
      },
      "source": [
        "      \n",
        "#cnnhistory=model.fit(x_traincnn, y_train, batch_size=32, epochs=100, validation_data=(x_testcnn, y_test))\n",
        "\n",
        "fig=plt.figure();\n",
        "plt.plot(history.history['loss'], label='Training loss',color='b')\n",
        "plt.plot(history.history['val_loss'], label='Validation Loss',color='r')\n",
        "plt.title('Training and validation Loss ')\n",
        "plt.ylabel('Model loss')\n",
        "plt.xlabel('epoch')\n",
        "plt.legend()\n",
        "plt.show()\n",
        "fig.savefig('1.png', format='png', dpi=1200)\n",
        "\n",
        "fig1=plt.figure();\n",
        "plt.plot(history.history['accuracy'], label='Training accuracy',color='b')\n",
        "plt.plot(history.history['val_accuracy'], label='Validation accuracy',color='r')\n",
        "plt.title('Training and validation accuracy ')\n",
        "plt.ylabel('Model accuracy')\n",
        "plt.xlabel('epoch')\n",
        "plt.legend()\n",
        "plt.show()\n",
        "\n",
        "fig1.savefig('1.png', format='png', dpi=1200)"
      ],
      "execution_count": null,
      "outputs": [
        {
          "output_type": "display_data",
          "data": {
            "image/png": "[encoded data removed]",
            "text/plain": [
              "<Figure size 432x288 with 1 Axes>"
            ]
          },
          "metadata": {
            "needs_background": "light"
          }
        },
        {
          "output_type": "display_data",
          "data": {
            "image/png": "[encoded data removed]",
            "text/plain": [
              "<Figure size 432x288 with 1 Axes>"
            ]
          },
          "metadata": {
            "needs_background": "light"
          }
        }
      ]
    }
  ]
}